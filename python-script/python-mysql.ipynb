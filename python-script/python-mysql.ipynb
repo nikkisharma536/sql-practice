{
 "cells": [
  {
   "cell_type": "code",
   "execution_count": 3,
   "metadata": {},
   "outputs": [
    {
     "name": "stdout",
     "output_type": "stream",
     "text": [
      "<mysql.connector.connection_cext.CMySQLConnection object at 0x11012ebe0>\n"
     ]
    }
   ],
   "source": [
    "# Install Mysql connector : pip3 install mysql-connector-python\n",
    "\n",
    "import mysql.connector\n",
    "\n",
    "mydb = mysql.connector.connect(\n",
    "  host=\"localhost\",\n",
    "  user=\"root\",\n",
    "  passwd=\"\"\n",
    ")\n",
    "\n",
    "print(mydb)"
   ]
  },
  {
   "cell_type": "code",
   "execution_count": 6,
   "metadata": {},
   "outputs": [],
   "source": [
    "# get cursor from connection\n",
    "cur = mydb.cursor()\n",
    "\n",
    "# Query to execute\n",
    "\n",
    "query = \"\"\"SELECT *\n",
    "            FROM nik.employees\n",
    "            LIMIT 10 \"\"\"\n",
    "\n",
    "#  execute this query \n",
    "cur.execute(query)\n",
    "\n",
    "# get rows\n",
    "rows  = cur.fetchall()\n"
   ]
  },
  {
   "cell_type": "code",
   "execution_count": 7,
   "metadata": {},
   "outputs": [
    {
     "name": "stdout",
     "output_type": "stream",
     "text": [
      "(123234877, 'Michael', 'Rogers', 14)\n",
      "(152934485, 'Anand', 'Manikutty', 14)\n",
      "(222364883, 'Carol', 'Smith', 37)\n",
      "(326587417, 'Joe', 'Stevens', 37)\n",
      "(332154719, 'Mary-Anne', 'Foster', 14)\n",
      "(332569843, 'George', 'ODonnell', 77)\n",
      "(546523478, 'John', 'Doe', 59)\n",
      "(631231482, 'David', 'Smith', 77)\n",
      "(654873219, 'Zacary', 'Efron', 59)\n",
      "(745685214, 'Eric', 'Goldsmith', 59)\n"
     ]
    }
   ],
   "source": [
    "for r in rows:\n",
    "    print(r)"
   ]
  },
  {
   "cell_type": "code",
   "execution_count": null,
   "metadata": {},
   "outputs": [],
   "source": []
  }
 ],
 "metadata": {
  "kernelspec": {
   "display_name": "Python 3",
   "language": "python",
   "name": "python3"
  },
  "language_info": {
   "codemirror_mode": {
    "name": "ipython",
    "version": 3
   },
   "file_extension": ".py",
   "mimetype": "text/x-python",
   "name": "python",
   "nbconvert_exporter": "python",
   "pygments_lexer": "ipython3",
   "version": "3.7.1"
  }
 },
 "nbformat": 4,
 "nbformat_minor": 2
}
